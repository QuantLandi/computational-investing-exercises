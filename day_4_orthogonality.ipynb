{
    "cells": [
     {
      "cell_type": "markdown",
      "metadata": {},
      "source": [
       "# Diversification and Portfolio Volatility\n",
       "\n",
       "This notebook demonstrates how adding uncorrelated assets (orthogonal return streams) affects portfolio volatility.\n",
       "\n",
       "We start with a **1-asset portfolio** and gradually add assets up to **20 assets**, observing how diversification reduces risk."
      ]
     },
     {
      "cell_type": "code",
      "execution_count": 1,
      "metadata": {},
      "outputs": [],
      "source": [
       "import numpy as np\n",
       "import matplotlib.pyplot as plt\n",
       "import pandas as pd"
      ]
     },
     {
      "cell_type": "markdown",
      "metadata": {},
      "source": [
       "## Function to Generate Orthogonal Assets\n",
       "\n",
       "We define a function to generate an asset that is **uncorrelated (orthogonal)** to all previously existing assets."
      ]
     },
     {
      "cell_type": "code",
      "execution_count": 2,
      "metadata": {},
      "outputs": [],
      "source": [
       "def generate_orthogonal_asset(existing_assets, mean, std_dev, size):\n",
       "    \"\"\"\n",
       "    Generate a new orthogonal asset relative to an existing portfolio.\n",
       "    \"\"\"\n",
       "    new_asset = np.random.normal(loc=mean, scale=std_dev, size=size)\n",
       "    \n",
       "    for asset in existing_assets:\n",
       "        dot_product = np.dot(asset, new_asset) / np.dot(asset, asset)\n",
       "        new_asset -= dot_product * asset\n",
       "    \n",
       "    new_asset = new_asset - np.mean(new_asset) + mean\n",
       "    new_asset = new_asset * (std_dev / np.std(new_asset))\n",
       "    return new_asset"
      ]
     },
     {
      "cell_type": "markdown",
      "metadata": {},
      "source": [
       "## Step 1: Create a Single Asset Portfolio\n",
       "\n",
       "We begin with one asset that follows a normal distribution."
      ]
     },
     {
      "cell_type": "code",
      "execution_count": 3,
      "metadata": {},
      "outputs": [],
      "source": [
       "np.random.seed(42)\n",
       "mean_daily_return = 0.0001\n",
       "daily_volatility = 0.004\n",
       "num_days = 25000\n",
       "\n",
       "primary_returns = np.random.normal(loc=mean_daily_return, scale=daily_volatility, size=num_days)\n",
       "primary_cum_returns = (1 + primary_returns).cumprod()\n",
       "\n",
       "plt.plot(primary_cum_returns, label=\"1 Asset\")\n",
       "plt.yscale(\"log\")\n",
       "plt.title(\"Cumulative Returns - 1 Asset\")\n",
       "plt.xlabel(\"Days\")\n",
       "plt.ylabel(\"Wealth (Log Scale)\")\n",
       "plt.legend()\n",
       "plt.show()"
      ]
     },
     {
      "cell_type": "markdown",
      "metadata": {},
      "source": [
       "## Step 2: Add a Second Asset\n",
       "\n",
       "Now, we add a second asset that is uncorrelated with the first."
      ]
     },
     {
      "cell_type": "code",
      "execution_count": 4,
      "metadata": {},
      "outputs": [],
      "source": [
       "second_asset = generate_orthogonal_asset([primary_returns], mean_daily_return, daily_volatility, num_days)\n",
       "weights_2 = [0.5, 0.5]\n",
       "two_asset_portfolio = weights_2[0] * primary_returns + weights_2[1] * second_asset\n",
       "two_asset_cum_returns = (1 + two_asset_portfolio).cumprod()\n",
       "\n",
       "plt.plot(primary_cum_returns, label=\"1 Asset\", linewidth=0.5)\n",
       "plt.plot(two_asset_cum_returns, label=\"2 Assets\", linewidth=1.5)\n",
       "plt.yscale(\"log\")\n",
       "plt.title(\"Cumulative Returns - 2 Assets\")\n",
       "plt.xlabel(\"Days\")\n",
       "plt.ylabel(\"Wealth (Log Scale)\")\n",
       "plt.legend()\n",
       "plt.show()"
      ]
     },
     {
      "cell_type": "markdown",
      "metadata": {},
      "source": [
       "## Step 3: Add a Third Asset\n",
       "\n",
       "Adding a third uncorrelated asset further reduces portfolio volatility."
      ]
     },
     {
      "cell_type": "code",
      "execution_count": 5,
      "metadata": {},
      "outputs": [],
      "source": [
       "third_asset = generate_orthogonal_asset([primary_returns, second_asset], mean_daily_return, daily_volatility, num_days)\n",
       "weights_3 = [1/3, 1/3, 1/3]\n",
       "three_asset_portfolio = weights_3[0] * primary_returns + weights_3[1] * second_asset + weights_3[2] * third_asset\n",
       "three_asset_cum_returns = (1 + three_asset_portfolio).cumprod()\n",
       "\n",
       "plt.plot(primary_cum_returns, label=\"1 Asset\", linewidth=0.5)\n",
       "plt.plot(two_asset_cum_returns, label=\"2 Assets\", linewidth=0.5)\n",
       "plt.plot(three_asset_cum_returns, label=\"3 Assets\", linewidth=1.5)\n",
       "plt.yscale(\"log\")\n",
       "plt.title(\"Cumulative Returns - 3 Assets\")\n",
       "plt.xlabel(\"Days\")\n",
       "plt.ylabel(\"Wealth (Log Scale)\")\n",
       "plt.legend()\n",
       "plt.show()"
      ]
     },
     {
      "cell_type": "markdown",
      "metadata": {},
      "source": [
       "## Step 4: Generalizing to 10, 15, and 20 Assets\n",
       "\n",
       "Now, we automate the process and observe how volatility changes."
      ]
     },
     {
      "cell_type": "code",
      "execution_count": 6,
      "metadata": {},
      "outputs": [],
      "source": [
       "assets = [primary_returns, second_asset, third_asset]\n",
       "results = {\"Number of Assets\": [1, 2, 3], \"Annual Volatility\": []}\n",
       "\n",
       "for num_assets in [10, 15, 20]:\n",
       "    while len(assets) < num_assets:\n",
       "        new_asset = generate_orthogonal_asset(assets, mean_daily_return, daily_volatility, num_days)\n",
       "        assets.append(new_asset)\n",
       "\n",
       "    weights = np.ones(len(assets)) / len(assets)\n",
       "    portfolio_returns = sum(weight * asset for weight, asset in zip(weights, assets))\n",
       "    results[\"Number of Assets\"].append(num_assets)\n",
       "    results[\"Annual Volatility\"].append(portfolio_returns.std() * np.sqrt(252))\n",
       "\n",
       "df = pd.DataFrame(results)\n",
       "plt.plot(df[\"Number of Assets\"], df[\"Annual Volatility\"], marker='o')\n",
       "plt.xlabel(\"Number of Assets\")\n",
       "plt.ylabel(\"Annualized Volatility\")\n",
       "plt.title(\"Portfolio Volatility vs Number of Assets\")\n",
       "plt.grid()\n",
       "plt.show()\n",
       "\n",
       "df"
      ]
     }
    ],
    "metadata": {},
    "nbformat": 4,
    "nbformat_minor": 4
   }
   