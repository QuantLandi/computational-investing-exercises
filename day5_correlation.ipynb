{
    "cells": [
     {
      "cell_type": "markdown",
      "metadata": {},
      "source": [
       "# Portfolio Volatility Analysis\n",
       "\n",
       "This notebook calculates and visualizes portfolio volatility as a function of \n",
       "the number of assets in a portfolio. Using **Modern Portfolio Theory (MPT)**, \n",
       "we explore the relationship between diversification, asset correlation, and \n",
       "portfolio risk.\n",
       "\n",
       "### Objectives\n",
       "1. Understand how portfolio volatility changes as the number of assets increases.\n",
       "2. Examine how correlation between assets affects the potential for diversification.\n",
       "3. Visualize portfolio volatility for different levels of asset correlation.\n"
      ]
     },
     {
      "cell_type": "markdown",
      "metadata": {},
      "source": [
       "## Step 1: Import Required Libraries\n",
       "\n",
       "We will use the following libraries:\n",
       "- `numpy` for numerical operations.\n",
       "- `matplotlib.pyplot` for generating plots and visualizing results."
      ]
     },
     {
      "cell_type": "code",
      "metadata": {},
      "execution_count": null,
      "source": [
       "import numpy as np\n",
       "import matplotlib.pyplot as plt"
      ],
      "outputs": []
     },
     {
      "cell_type": "markdown",
      "metadata": {},
      "source": [
       "## Step 2: Define the Portfolio Volatility Function\n",
       "\n",
       "The portfolio volatility function calculates the risk (volatility) of a portfolio \n",
       "based on three inputs:\n",
       "1. **Number of assets (n_assets):** How many assets are in the portfolio.\n",
       "2. **Correlation between assets (corr):** The average correlation (ρ) between assets.\n",
       "3. **Individual asset volatility (individual_vol):** The standard deviation (σ) of \n",
       "   the returns of each individual asset.\n",
       "\n",
       "### Formula Derivation:\n",
       "Modern Portfolio Theory expresses portfolio variance as:\n",
       "\\[ \\text{Portfolio Variance} = \\sigma^2 \\left[ \\frac{1 - \\rho}{n} + \\rho \\right] \\]\n",
       "Where:\n",
       "- \\( \\sigma^2 \\): Variance of each individual asset.\n",
       "- \\( \\rho \\): Average correlation between assets.\n",
       "- \\( n \\): Number of assets in the portfolio.\n",
       "\n",
       "### Key Points:\n",
       "- **Diversification Effect:** As the number of assets \\( n \\) increases, the term \n",
       "  \\( \\frac{1 - \\rho}{n} \\) decreases, reducing the portfolio risk.\n",
       "- **Systematic Risk:** The correlation term \\( \\rho \\) represents common risk across \n",
       "  assets, which cannot be diversified away.\n",
       "\n",
       "### Purpose:\n",
       "This function helps to quantify how diversification and correlation interact to \n",
       "determine overall portfolio risk."
      ]
     },
     {
      "cell_type": "code",
      "metadata": {},
      "execution_count": null,
      "source": [
       "def portfolio_volatility(n_assets, corr, individual_vol):\n",
       "    \"\"\"\n",
       "    Calculate the portfolio volatility based on the number of assets,\n",
       "    correlation, and individual asset volatility.\n",
       "\n",
       "    Parameters:\n",
       "    - n_assets (int): Number of assets in the portfolio.\n",
       "    - corr (float): Correlation between the assets.\n",
       "    - individual_vol (float): Annualized volatility of each asset.\n",
       "\n",
       "    Returns:\n",
       "    - float: Portfolio volatility.\n",
       "\n",
       "    Formula:\n",
       "    Portfolio Variance = σ² * [(1 - ρ) / n + ρ]\n",
       "    Portfolio Volatility = sqrt(Portfolio Variance)\n",
       "    \"\"\"\n",
       "    avg_correlation = corr\n",
       "    variance = (individual_vol**2) * (\n",
       "        (1 - avg_correlation) / n_assets + avg_correlation\n",
       "    )\n",
       "    return np.sqrt(variance)"
      ],
      "outputs": []
     },
     {
      "cell_type": "markdown",
      "metadata": {},
      "source": [
       "## Step 3: Define Parameters for Analysis\n",
       "\n",
       "Next, we define the input parameters:\n",
       "- **Correlation values:** A list of correlation levels to explore, ranging from \n",
       "  0.67 (high correlation) to 0.0 (no correlation).\n",
       "- **Number of assets:** A range from 1 to 20, representing portfolio size.\n",
       "- **Individual asset volatility:** Set to 10% (0.10) for all assets.\n",
       "\n",
       "### Objective:\n",
       "These parameters allow us to calculate portfolio volatilities under different \n",
       "scenarios and compare the effects of correlation."
      ]
     },
     {
      "cell_type": "code",
      "metadata": {},
      "execution_count": null,
      "source": [
       "# Parameters for the calculations\n",
       "correlations = [0.67, 0.33, 0.2, 0.1, 0.033, 0.0]  # List of correlations\n",
       "labels = [f\"Correlation = {corr:.2f}\" for corr in correlations]  # Labels\n",
       "num_assets = np.arange(1, 21)  # Number of assets (1 to 20)\n",
       "individual_volatility = 0.10  # Annualized volatility of each asset (10%)"
      ],
      "outputs": []
     },
     {
      "cell_type": "markdown",
      "metadata": {},
      "source": [
       "## Step 4: Calculate Portfolio Volatilities\n",
       "\n",
       "For each correlation level, we calculate portfolio volatilities as a function \n",
       "of the number of assets. The calculations are performed using the `portfolio_volatility` \n",
       "function defined earlier.\n",
       "\n",
       "### Key Insight:\n",
       "This step highlights how volatility decreases as the number of assets increases, \n",
       "with the extent of reduction depending on the correlation level."
      ]
     },
     {
      "cell_type": "code",
      "metadata": {},
      "execution_count": null,
      "source": [
       "# Calculate portfolio volatilities for each correlation\n",
       "portfolio_volatilities_corr = {\n",
       "    corr: [\n",
       "        portfolio_volatility(n, corr, individual_volatility) for n in num_assets\n",
       "    ]\n",
       "    for corr in correlations\n",
       "}"
      ],
      "outputs": []
     },
     {
      "cell_type": "markdown",
      "metadata": {},
      "source": [
       "## Step 5: Plot the Results\n",
       "\n",
       "Finally, we visualize the relationship between the number of assets and portfolio \n",
       "volatility for each correlation level. The plot demonstrates:\n",
       "- How higher correlation limits the benefits of diversification.\n",
       "- How lower correlation enhances diversification benefits and reduces risk.\n",
       "\n",
       "### Key Features of the Plot:\n",
       "- **X-axis:** Number of assets in the portfolio.\n",
       "- **Y-axis:** Annualized portfolio volatility.\n",
       "- **Lines:** Each line represents a different correlation level."
      ]
     },
     {
      "cell_type": "code",
      "metadata": {},
      "execution_count": null,
      "source": [
       "# Plotting the results\n",
       "plt.figure(figsize=(10, 6))  # Create a figure with specified size\n",
       "\n",
       "# Add a line for each correlation value\n",
       "for corr, label in zip(correlations, labels):\n",
       "    plt.plot(\n",
       "        num_assets, \n",
       "        portfolio_volatilities_corr[corr], \n",
       "        marker=\"o\", \n",
       "        linestyle=\"-\", \n",
       "        label=label\n",
       "    )\n",
       "\n",
       "# Add titles and labels to the plot\n",
       "plt.title(\n",
       "    \"Portfolio Volatility as a Function of Number of Assets\", \n",
       "    fontsize=14\n",
       ")  # Plot title\n",
       "plt.xlabel(\"Number of Assets\", fontsize=12)  # X-axis label\n",
       "plt.ylabel(\"Portfolio Volatility (Annualized)\", fontsize=12)  # Y-axis label\n",
       "plt.grid(True)  # Add grid lines for better readability\n",
       "plt.xticks(num_assets)  # Set ticks on the x-axis\n",
       "plt.legend(fontsize=12)  # Add a legend to distinguish between lines\n",
       "\n",
       "# Display the plot\n",
       "plt.show()"
      ],
      "outputs": []
     }
    ],
    "metadata": {
     "kernelspec": {
      "display_name": "Python 3",
      "language": "python",
      "name": "python3"
     },
     "language_info": {
      "codemirror_mode": {
       "name": "ipython",
       "version": 3
      },
      "file_extension": ".py",
      "mimetype": "text/x-python",
      "name": "python",
      "nbconvert_exporter": "python",
      "pygments_lexer": "ipython3",
      "version": "3.8.10"
     }
    },
    "nbformat": 4,
    "nbformat_minor": 4
   }
   